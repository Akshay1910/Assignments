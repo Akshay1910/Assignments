{
 "cells": [
  {
   "cell_type": "markdown",
   "metadata": {},
   "source": [
    "# Task-1\n"
   ]
  },
  {
   "cell_type": "markdown",
   "metadata": {},
   "source": [
    "<b>1.1 & 1.2"
   ]
  },
  {
   "cell_type": "code",
   "execution_count": 45,
   "metadata": {},
   "outputs": [
    {
     "name": "stdout",
     "output_type": "stream",
     "text": [
      "Sum on list [1,2,3] using custom reduce function 6\n",
      "Filter only positive Integers on list [0,1,-2,3,4,5] using custom filter function[1, 3, 4, 5]\n"
     ]
    }
   ],
   "source": [
    "# Reduce will produce a single result\n",
    "def myreduce(anyfunc, sequence):\n",
    "\n",
    " # Get first item in sequence and assign to result\n",
    "  result = sequence[0]\n",
    " # iterate over remaining items in sequence and apply reduction function \n",
    "  for item in sequence[1:]:\n",
    "   result = anyfunc(result, item)\n",
    "\n",
    "  return result\n",
    "\n",
    "\n",
    "# Custom filter function \n",
    "def myfilter(anyfunc, sequence):\n",
    "\n",
    " # Initialize empty list\n",
    " result = []\n",
    " # iterate over sequence of items in sequence and apply filter function\n",
    " for item in sequence:\n",
    "  if anyfunc(item):\n",
    "   result.append(item)\n",
    "\n",
    " # return funal output\n",
    " return result\n",
    "\n",
    "\n",
    "# test myreduce function\n",
    "def sum(x,y): return x + y\n",
    "\n",
    "# test myfilter function\n",
    "def ispositive(x):\n",
    " if (x <= 0): \n",
    "  return False \n",
    " else: \n",
    "  return True\n",
    "\n",
    "\n",
    "print (\"Sum on list [1,2,3] using custom reduce function \"   + str(myreduce(sum, [1,2,3])) )\n",
    "print (\"Filter only positive Integers on list [0,1,-2,3,4,5] using custom filter function\"  + str(myfilter(ispositive, [0,1,-2,3,4,5])))"
   ]
  },
  {
   "cell_type": "markdown",
   "metadata": {},
   "source": [
    "<b>2"
   ]
  },
  {
   "cell_type": "code",
   "execution_count": 35,
   "metadata": {},
   "outputs": [
    {
     "name": "stdout",
     "output_type": "stream",
     "text": [
      "['A', 'C', 'A', 'D', 'G', 'I', 'L', 'D']\n",
      "['x', 'xx', 'xxx', 'xxxx', 'y', 'yy', 'yyy', 'yyyy', 'z', 'zz', 'zzz', 'zzzz']\n",
      "['x', 'y', 'z', 'xx', 'yy', 'zz', 'xxx', 'yyy', 'zzz', 'xxxx', 'yyyy', 'zzzz']\n",
      "[[2], [3], [4], [3], [4], [5], [4], [5], [6]]\n",
      "[[2, 3, 4, 5], [3, 4, 5, 6], [4, 5, 6, 7], [5, 6, 7, 8]]\n",
      "[(1, 1), (2, 1), (3, 1), (1, 2), (2, 2), (3, 2), (1, 3), (2, 3), (3, 3)]\n"
     ]
    }
   ],
   "source": [
    "w = \"ACADGILD\"\n",
    "alphabet_list = [ w for w in word ]\n",
    "print ( str(alphabet_list))\n",
    "\n",
    "i_list = ['x','y','z']\n",
    "result = [ item*num for item in i_list for num in range(1,5)  ]\n",
    "print(str(result))\n",
    "\n",
    "i_list = ['x','y','z']\n",
    "result = [ item*num for num in range(1,5) for item in i_list  ]\n",
    "print( str(result))\n",
    "\n",
    "\n",
    "i_list = [2,3,4]\n",
    "result = [ [item+num] for item in i_list for num in range(0,3)]\n",
    "print(str(result))\n",
    "\n",
    "i_list = [2,3,4,5]\n",
    "result = [ [item+num for item in i_list] for num in range(0,4)  ]\n",
    "print(str(result))\n",
    "      \n",
    "i_list=[1,2,3]\n",
    "result = [ (b,a) for a in i_list for b in i_list]\n",
    "print(str(result))"
   ]
  },
  {
   "cell_type": "markdown",
   "metadata": {},
   "source": [
    "<b>3"
   ]
  },
  {
   "cell_type": "code",
   "execution_count": 42,
   "metadata": {},
   "outputs": [
    {
     "name": "stdout",
     "output_type": "stream",
     "text": [
      "beautiful\n"
     ]
    }
   ],
   "source": [
    "\n",
    "from functools import reduce\n",
    "list_words = [\"This\",\"is\",\"a\",\"beautiful\",\"morning\"]\n",
    "\n",
    "# Function to compare and reduce list to the result\n",
    "def longestWord(list_words):\n",
    " return reduce( (lambda x,y:y if len(y) > len(x) else x), list_words )\n",
    "\n",
    "print ( longestWord(list_words) )\n"
   ]
  },
  {
   "cell_type": "markdown",
   "metadata": {},
   "source": [
    "# Task-2"
   ]
  },
  {
   "cell_type": "markdown",
   "metadata": {},
   "source": [
    "<b>1.1"
   ]
  },
  {
   "cell_type": "code",
   "execution_count": 2,
   "metadata": {},
   "outputs": [
    {
     "name": "stdout",
     "output_type": "stream",
     "text": [
      "3\n",
      "4\n",
      "5\n",
      "6.0\n"
     ]
    }
   ],
   "source": [
    "\n",
    "def area(a,b,c):\n",
    "    s = (a+b+c)/2\n",
    "    area = (s*(s-a)*(s-b)*(s-c))**0.5\n",
    "    print(area)\n",
    "\n",
    "a,b,c= int(input()),int(input()),int(input())\n",
    "\n",
    "area(a,b,c)"
   ]
  },
  {
   "cell_type": "markdown",
   "metadata": {},
   "source": [
    "<b>1.2"
   ]
  },
  {
   "cell_type": "code",
   "execution_count": 15,
   "metadata": {},
   "outputs": [
    {
     "name": "stdout",
     "output_type": "stream",
     "text": [
      "Enter the number of words: 4\n",
      "akshay\n",
      "gupta\n",
      "sds\n",
      "as\n",
      "Enter n2\n",
      "['akshay', 'gupta', 'sds']\n"
     ]
    }
   ],
   "source": [
    "def filter_long_words(l,n):\n",
    "    new_list = []\n",
    "    for i in range(0,len(l)):\n",
    "        if len(l[i]) > n:\n",
    "            new_list.append(l[i])\n",
    "    return new_list\n",
    "\n",
    "\n",
    "m = int(input('Enter the number of words: '))\n",
    "l =[]\n",
    "for i in range(0,m):\n",
    "    ele = input()\n",
    "    l.append(ele)\n",
    "\n",
    "n = int(input('Enter n'))\n",
    "    \n",
    "res = filter_long_words(l,n)\n",
    "print(res)\n",
    "\n",
    "\n"
   ]
  },
  {
   "cell_type": "markdown",
   "metadata": {},
   "source": [
    "<b>2.1"
   ]
  },
  {
   "cell_type": "code",
   "execution_count": 17,
   "metadata": {},
   "outputs": [
    {
     "name": "stdout",
     "output_type": "stream",
     "text": [
      "Enter the number of words: 3\n",
      "ab\n",
      "dsf\n",
      "sdsa\n",
      "[2, 3, 4]\n"
     ]
    }
   ],
   "source": [
    "def map_length(l):\n",
    "    new_list = []\n",
    "    for i in range(0,len(l)):\n",
    "        new_list.append(len(l[i]))\n",
    "    return new_list\n",
    "\n",
    "\n",
    "m = int(input('Enter the number of words: '))\n",
    "l =[]\n",
    "for i in range(0,m):\n",
    "    ele = input()\n",
    "    l.append(ele)\n",
    "\n",
    "\n",
    "    \n",
    "res = map_length(l)\n",
    "print(res)\n",
    "\n"
   ]
  },
  {
   "cell_type": "markdown",
   "metadata": {},
   "source": [
    "<b>2.2"
   ]
  },
  {
   "cell_type": "code",
   "execution_count": 25,
   "metadata": {},
   "outputs": [
    {
     "name": "stdout",
     "output_type": "stream",
     "text": [
      "t\n",
      "False\n"
     ]
    }
   ],
   "source": [
    "def check_vowel(ch):\n",
    "    l = ['a','e','i','o','u']\n",
    "    if ch in l:\n",
    "        return True\n",
    "    return False\n",
    "\n",
    "ch = input()\n",
    "\n",
    "res = check_vowel(ch)\n",
    "print(res)\n"
   ]
  },
  {
   "cell_type": "code",
   "execution_count": null,
   "metadata": {},
   "outputs": [],
   "source": []
  }
 ],
 "metadata": {
  "kernelspec": {
   "display_name": "Python 3",
   "language": "python",
   "name": "python3"
  },
  "language_info": {
   "codemirror_mode": {
    "name": "ipython",
    "version": 3
   },
   "file_extension": ".py",
   "mimetype": "text/x-python",
   "name": "python",
   "nbconvert_exporter": "python",
   "pygments_lexer": "ipython3",
   "version": "3.7.3"
  }
 },
 "nbformat": 4,
 "nbformat_minor": 2
}
